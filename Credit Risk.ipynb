{
 "cells": [
  {
   "cell_type": "markdown",
   "metadata": {},
   "source": [
    "# Hamidreza Ghadiri 400125082"
   ]
  },
  {
   "cell_type": "code",
   "execution_count": 1,
   "metadata": {},
   "outputs": [],
   "source": [
    "import numpy as np\n",
    "import pandas as pd\n",
    "import seaborn as sns\n",
    "import matplotlib.pyplot as plt\n",
    "import collections\n",
    "from sklearn.tree import DecisionTreeClassifier\n",
    "from sklearn.ensemble import RandomForestClassifier\n",
    "from sklearn.svm import SVC\n",
    "from sklearn.naive_bayes import GaussianNB\n",
    "from sklearn.naive_bayes import ComplementNB\n",
    "from sklearn.model_selection import train_test_split\n",
    "from sklearn.feature_selection import mutual_info_classif\n",
    "from sklearn.feature_selection import chi2\n",
    "from sklearn.feature_selection import SelectKBest\n",
    "from sklearn.metrics import accuracy_score\n",
    "from sklearn.metrics import precision_score\n",
    "from sklearn.metrics import recall_score\n",
    "from sklearn.metrics import f1_score\n",
    "from sklearn.metrics import confusion_matrix\n",
    "from sklearn.model_selection import KFold\n",
    "from sklearn.model_selection import cross_val_score"
   ]
  },
  {
   "cell_type": "markdown",
   "metadata": {},
   "source": [
    "# Read Data"
   ]
  },
  {
   "cell_type": "code",
   "execution_count": 11,
   "metadata": {},
   "outputs": [
    {
     "data": {
      "text/html": [
       "<div>\n",
       "<style scoped>\n",
       "    .dataframe tbody tr th:only-of-type {\n",
       "        vertical-align: middle;\n",
       "    }\n",
       "\n",
       "    .dataframe tbody tr th {\n",
       "        vertical-align: top;\n",
       "    }\n",
       "\n",
       "    .dataframe thead th {\n",
       "        text-align: right;\n",
       "    }\n",
       "</style>\n",
       "<table border=\"1\" class=\"dataframe\">\n",
       "  <thead>\n",
       "    <tr style=\"text-align: right;\">\n",
       "      <th></th>\n",
       "      <th>A1</th>\n",
       "      <th>A2</th>\n",
       "      <th>A3</th>\n",
       "      <th>A4</th>\n",
       "      <th>A5</th>\n",
       "      <th>A6</th>\n",
       "      <th>A7</th>\n",
       "      <th>A8</th>\n",
       "      <th>A9</th>\n",
       "      <th>A10</th>\n",
       "      <th>A11</th>\n",
       "      <th>A12</th>\n",
       "      <th>A13</th>\n",
       "      <th>Y</th>\n",
       "    </tr>\n",
       "  </thead>\n",
       "  <tbody>\n",
       "    <tr>\n",
       "      <th>0</th>\n",
       "      <td>22.08</td>\n",
       "      <td>11.460</td>\n",
       "      <td>2</td>\n",
       "      <td>4</td>\n",
       "      <td>4</td>\n",
       "      <td>1.585</td>\n",
       "      <td>0</td>\n",
       "      <td>0</td>\n",
       "      <td>0</td>\n",
       "      <td>1</td>\n",
       "      <td>2</td>\n",
       "      <td>100</td>\n",
       "      <td>1213</td>\n",
       "      <td>0</td>\n",
       "    </tr>\n",
       "    <tr>\n",
       "      <th>1</th>\n",
       "      <td>22.67</td>\n",
       "      <td>7.000</td>\n",
       "      <td>2</td>\n",
       "      <td>8</td>\n",
       "      <td>4</td>\n",
       "      <td>0.165</td>\n",
       "      <td>0</td>\n",
       "      <td>0</td>\n",
       "      <td>0</td>\n",
       "      <td>0</td>\n",
       "      <td>2</td>\n",
       "      <td>160</td>\n",
       "      <td>1</td>\n",
       "      <td>0</td>\n",
       "    </tr>\n",
       "    <tr>\n",
       "      <th>2</th>\n",
       "      <td>29.58</td>\n",
       "      <td>1.750</td>\n",
       "      <td>1</td>\n",
       "      <td>4</td>\n",
       "      <td>4</td>\n",
       "      <td>1.250</td>\n",
       "      <td>0</td>\n",
       "      <td>0</td>\n",
       "      <td>0</td>\n",
       "      <td>1</td>\n",
       "      <td>2</td>\n",
       "      <td>280</td>\n",
       "      <td>1</td>\n",
       "      <td>0</td>\n",
       "    </tr>\n",
       "    <tr>\n",
       "      <th>3</th>\n",
       "      <td>21.67</td>\n",
       "      <td>11.500</td>\n",
       "      <td>1</td>\n",
       "      <td>5</td>\n",
       "      <td>3</td>\n",
       "      <td>0.000</td>\n",
       "      <td>1</td>\n",
       "      <td>1</td>\n",
       "      <td>11</td>\n",
       "      <td>1</td>\n",
       "      <td>2</td>\n",
       "      <td>0</td>\n",
       "      <td>1</td>\n",
       "      <td>1</td>\n",
       "    </tr>\n",
       "    <tr>\n",
       "      <th>4</th>\n",
       "      <td>20.17</td>\n",
       "      <td>8.170</td>\n",
       "      <td>2</td>\n",
       "      <td>6</td>\n",
       "      <td>4</td>\n",
       "      <td>1.960</td>\n",
       "      <td>1</td>\n",
       "      <td>1</td>\n",
       "      <td>14</td>\n",
       "      <td>0</td>\n",
       "      <td>2</td>\n",
       "      <td>60</td>\n",
       "      <td>159</td>\n",
       "      <td>1</td>\n",
       "    </tr>\n",
       "    <tr>\n",
       "      <th>...</th>\n",
       "      <td>...</td>\n",
       "      <td>...</td>\n",
       "      <td>...</td>\n",
       "      <td>...</td>\n",
       "      <td>...</td>\n",
       "      <td>...</td>\n",
       "      <td>...</td>\n",
       "      <td>...</td>\n",
       "      <td>...</td>\n",
       "      <td>...</td>\n",
       "      <td>...</td>\n",
       "      <td>...</td>\n",
       "      <td>...</td>\n",
       "      <td>...</td>\n",
       "    </tr>\n",
       "    <tr>\n",
       "      <th>685</th>\n",
       "      <td>31.57</td>\n",
       "      <td>10.500</td>\n",
       "      <td>2</td>\n",
       "      <td>14</td>\n",
       "      <td>4</td>\n",
       "      <td>6.500</td>\n",
       "      <td>1</td>\n",
       "      <td>0</td>\n",
       "      <td>0</td>\n",
       "      <td>0</td>\n",
       "      <td>2</td>\n",
       "      <td>0</td>\n",
       "      <td>1</td>\n",
       "      <td>1</td>\n",
       "    </tr>\n",
       "    <tr>\n",
       "      <th>686</th>\n",
       "      <td>20.67</td>\n",
       "      <td>0.415</td>\n",
       "      <td>2</td>\n",
       "      <td>8</td>\n",
       "      <td>4</td>\n",
       "      <td>0.125</td>\n",
       "      <td>0</td>\n",
       "      <td>0</td>\n",
       "      <td>0</td>\n",
       "      <td>0</td>\n",
       "      <td>2</td>\n",
       "      <td>0</td>\n",
       "      <td>45</td>\n",
       "      <td>0</td>\n",
       "    </tr>\n",
       "    <tr>\n",
       "      <th>687</th>\n",
       "      <td>18.83</td>\n",
       "      <td>9.540</td>\n",
       "      <td>2</td>\n",
       "      <td>6</td>\n",
       "      <td>4</td>\n",
       "      <td>0.085</td>\n",
       "      <td>1</td>\n",
       "      <td>0</td>\n",
       "      <td>0</td>\n",
       "      <td>0</td>\n",
       "      <td>2</td>\n",
       "      <td>100</td>\n",
       "      <td>1</td>\n",
       "      <td>1</td>\n",
       "    </tr>\n",
       "    <tr>\n",
       "      <th>688</th>\n",
       "      <td>27.42</td>\n",
       "      <td>14.500</td>\n",
       "      <td>2</td>\n",
       "      <td>14</td>\n",
       "      <td>8</td>\n",
       "      <td>3.085</td>\n",
       "      <td>1</td>\n",
       "      <td>1</td>\n",
       "      <td>1</td>\n",
       "      <td>0</td>\n",
       "      <td>2</td>\n",
       "      <td>120</td>\n",
       "      <td>12</td>\n",
       "      <td>1</td>\n",
       "    </tr>\n",
       "    <tr>\n",
       "      <th>689</th>\n",
       "      <td>41.00</td>\n",
       "      <td>0.040</td>\n",
       "      <td>2</td>\n",
       "      <td>10</td>\n",
       "      <td>4</td>\n",
       "      <td>0.040</td>\n",
       "      <td>0</td>\n",
       "      <td>1</td>\n",
       "      <td>1</td>\n",
       "      <td>0</td>\n",
       "      <td>1</td>\n",
       "      <td>560</td>\n",
       "      <td>1</td>\n",
       "      <td>1</td>\n",
       "    </tr>\n",
       "  </tbody>\n",
       "</table>\n",
       "<p>690 rows × 14 columns</p>\n",
       "</div>"
      ],
      "text/plain": [
       "        A1      A2  A3  A4  A5     A6  A7  A8  A9  A10  A11  A12   A13  Y\n",
       "0    22.08  11.460   2   4   4  1.585   0   0   0    1    2  100  1213  0\n",
       "1    22.67   7.000   2   8   4  0.165   0   0   0    0    2  160     1  0\n",
       "2    29.58   1.750   1   4   4  1.250   0   0   0    1    2  280     1  0\n",
       "3    21.67  11.500   1   5   3  0.000   1   1  11    1    2    0     1  1\n",
       "4    20.17   8.170   2   6   4  1.960   1   1  14    0    2   60   159  1\n",
       "..     ...     ...  ..  ..  ..    ...  ..  ..  ..  ...  ...  ...   ... ..\n",
       "685  31.57  10.500   2  14   4  6.500   1   0   0    0    2    0     1  1\n",
       "686  20.67   0.415   2   8   4  0.125   0   0   0    0    2    0    45  0\n",
       "687  18.83   9.540   2   6   4  0.085   1   0   0    0    2  100     1  1\n",
       "688  27.42  14.500   2  14   8  3.085   1   1   1    0    2  120    12  1\n",
       "689  41.00   0.040   2  10   4  0.040   0   1   1    0    1  560     1  1\n",
       "\n",
       "[690 rows x 14 columns]"
      ]
     },
     "execution_count": 11,
     "metadata": {},
     "output_type": "execute_result"
    }
   ],
   "source": [
    "df=pd.read_excel(\"C:/Users/NJ/Desktop/Australian.xlsx\")\n",
    "df=df.drop(labels=['ID'], axis=1)\n",
    "df"
   ]
  },
  {
   "cell_type": "code",
   "execution_count": 12,
   "metadata": {},
   "outputs": [],
   "source": [
    "x=df.drop(labels=['Y'], axis=1)\n",
    "y=df['Y']"
   ]
  },
  {
   "cell_type": "markdown",
   "metadata": {},
   "source": [
    "# Information gain"
   ]
  },
  {
   "cell_type": "code",
   "execution_count": 13,
   "metadata": {},
   "outputs": [],
   "source": [
    "#x_train,x_test,y_train,y_test=train_test_split(df.drop(labels=['credit_risk'], axis=1),\n",
    "    #df['credit_risk'],\n",
    "    #test_size=0.34,\n",
    "    #random_state=0)"
   ]
  },
  {
   "cell_type": "code",
   "execution_count": 14,
   "metadata": {},
   "outputs": [],
   "source": [
    "mutual_info_list=list()\n",
    "feature=list()\n",
    "for i in range (20):\n",
    "    mutual_info = mutual_info_classif(x,y)\n",
    "    mutual_info = pd.Series(mutual_info)\n",
    "    mutual_info.index = x.columns\n",
    "    mutual_info=mutual_info.sort_values(ascending=False)\n",
    "    for j in range(8):\n",
    "        feature.append(mutual_info.index[j])\n",
    "    mutual_info_list.append(mutual_info)\n",
    "final=collections.Counter(feature)\n",
    "final=pd.Series(final)\n",
    "final=final.sort_values(ascending=False)\n",
    "final_ig=final[0:8]"
   ]
  },
  {
   "cell_type": "code",
   "execution_count": 15,
   "metadata": {},
   "outputs": [
    {
     "data": {
      "text/plain": [
       "A6     20\n",
       "A13    20\n",
       "A8     20\n",
       "A9     20\n",
       "A7     20\n",
       "A4     18\n",
       "A12    15\n",
       "A5     12\n",
       "dtype: int64"
      ]
     },
     "execution_count": 15,
     "metadata": {},
     "output_type": "execute_result"
    }
   ],
   "source": [
    "final_ig"
   ]
  },
  {
   "cell_type": "code",
   "execution_count": 16,
   "metadata": {},
   "outputs": [
    {
     "data": {
      "text/plain": [
       "<AxesSubplot:>"
      ]
     },
     "execution_count": 16,
     "metadata": {},
     "output_type": "execute_result"
    },
    {
     "data": {
      "image/png": "[encoded data removed]",
      "text/plain": [
       "<Figure size 1440x576 with 1 Axes>"
      ]
     },
     "metadata": {
      "needs_background": "light"
     },
     "output_type": "display_data"
    }
   ],
   "source": [
    "final.sort_values(ascending=False).plot.bar(figsize=(20, 8))"
   ]
  },
  {
   "cell_type": "markdown",
   "metadata": {},
   "source": [
    "# Gain ratio"
   ]
  },
  {
   "cell_type": "code",
   "execution_count": 17,
   "metadata": {},
   "outputs": [],
   "source": [
    "def entropy(labels):\n",
    "    ps = np.bincount(labels) / len(labels)\n",
    "    return -np.sum([p * np.log2(p) for p in ps if p > 0])"
   ]
  },
  {
   "cell_type": "code",
   "execution_count": 18,
   "metadata": {},
   "outputs": [
    {
     "data": {
      "text/plain": [
       "[5.2853890749386485,\n",
       " 3.638658894630253,\n",
       " 0.8162006158245961,\n",
       " 3.496440211804626,\n",
       " 1.7813277179145888,\n",
       " 2.5747931053773483,\n",
       " 0.9984479628754399,\n",
       " 0.9847953334568664,\n",
       " 2.5273592592706278,\n",
       " 0.9948971249670666,\n",
       " 0.5010395545266965,\n",
       " 5.736048757235469,\n",
       " 5.185190751955471]"
      ]
     },
     "execution_count": 18,
     "metadata": {},
     "output_type": "execute_result"
    }
   ],
   "source": [
    "e=list()\n",
    "for i in range (13):\n",
    "    e.append(entropy(x[x.columns[i]]))\n",
    "e"
   ]
  },
  {
   "cell_type": "code",
   "execution_count": 20,
   "metadata": {},
   "outputs": [],
   "source": [
    "gain_ratio_list=list()\n",
    "feature=list()\n",
    "for i in range (20):\n",
    "    gain_ratio = mutual_info_classif(x,y)/e\n",
    "    gain_ratio = pd.Series(gain_ratio)\n",
    "    gain_ratio.index = x.columns\n",
    "    gain_ratio=gain_ratio.sort_values(ascending=False)\n",
    "    for j in range(8):\n",
    "        feature.append(gain_ratio.index[j])\n",
    "    gain_ratio_list.append(gain_ratio)\n",
    "final2=collections.Counter(feature)\n",
    "final2=pd.Series(final2)\n",
    "final2=final2.sort_values(ascending=False)\n",
    "final_gr=final2[0:8]"
   ]
  },
  {
   "cell_type": "code",
   "execution_count": 21,
   "metadata": {},
   "outputs": [
    {
     "data": {
      "text/plain": [
       "A6     20\n",
       "A9     20\n",
       "A8     20\n",
       "A7     20\n",
       "A13    18\n",
       "A4     16\n",
       "A3     15\n",
       "A5     13\n",
       "dtype: int64"
      ]
     },
     "execution_count": 21,
     "metadata": {},
     "output_type": "execute_result"
    }
   ],
   "source": [
    "final_gr"
   ]
  },
  {
   "cell_type": "code",
   "execution_count": 22,
   "metadata": {},
   "outputs": [
    {
     "data": {
      "text/plain": [
       "<AxesSubplot:>"
      ]
     },
     "execution_count": 22,
     "metadata": {},
     "output_type": "execute_result"
    },
    {
     "data": {
      "image/png": "[encoded data removed]",
      "text/plain": [
       "<Figure size 1440x576 with 1 Axes>"
      ]
     },
     "metadata": {
      "needs_background": "light"
     },
     "output_type": "display_data"
    }
   ],
   "source": [
    "final2.sort_values(ascending=False).plot.bar(figsize=(20, 8))"
   ]
  },
  {
   "cell_type": "markdown",
   "metadata": {},
   "source": [
    "# Chi square"
   ]
  },
  {
   "cell_type": "code",
   "execution_count": 23,
   "metadata": {},
   "outputs": [
    {
     "data": {
      "text/plain": [
       "(array([8.01064803e+01, 1.52699990e+02, 2.72333548e+00, 1.77070268e+02,\n",
       "        3.54306863e+01, 3.60893186e+02, 1.70746388e+02, 8.29658437e+01,\n",
       "        1.12133299e+03, 3.74048205e-01, 4.23695318e-01, 1.10914504e+03,\n",
       "        5.66671641e+05]),\n",
       " array([3.54766993e-019, 4.45492159e-035, 9.88911687e-002, 2.11411273e-040,\n",
       "        2.64290080e-009, 1.79926842e-080, 5.08335034e-039, 8.34835321e-020,\n",
       "        7.62644078e-246, 5.40805876e-001, 5.15098888e-001, 3.39836740e-243,\n",
       "        0.00000000e+000]))"
      ]
     },
     "execution_count": 23,
     "metadata": {},
     "output_type": "execute_result"
    }
   ],
   "source": [
    "f_p_values=chi2(x,y)\n",
    "f_p_values"
   ]
  },
  {
   "cell_type": "code",
   "execution_count": 24,
   "metadata": {},
   "outputs": [
    {
     "data": {
      "text/plain": [
       "A1      3.547670e-19\n",
       "A2      4.454922e-35\n",
       "A3      9.889117e-02\n",
       "A4      2.114113e-40\n",
       "A5      2.642901e-09\n",
       "A6      1.799268e-80\n",
       "A7      5.083350e-39\n",
       "A8      8.348353e-20\n",
       "A9     7.626441e-246\n",
       "A10     5.408059e-01\n",
       "A11     5.150989e-01\n",
       "A12    3.398367e-243\n",
       "A13     0.000000e+00\n",
       "dtype: float64"
      ]
     },
     "execution_count": 24,
     "metadata": {},
     "output_type": "execute_result"
    }
   ],
   "source": [
    "p_values=pd.Series(f_p_values[1])\n",
    "p_values.index=x.columns\n",
    "p_values"
   ]
  },
  {
   "cell_type": "code",
   "execution_count": 25,
   "metadata": {},
   "outputs": [
    {
     "data": {
      "text/plain": [
       "A10     5.408059e-01\n",
       "A11     5.150989e-01\n",
       "A3      9.889117e-02\n",
       "A5      2.642901e-09\n",
       "A1      3.547670e-19\n",
       "A8      8.348353e-20\n",
       "A2      4.454922e-35\n",
       "A7      5.083350e-39\n",
       "A4      2.114113e-40\n",
       "A6      1.799268e-80\n",
       "A12    3.398367e-243\n",
       "A9     7.626441e-246\n",
       "A13     0.000000e+00\n",
       "dtype: float64"
      ]
     },
     "execution_count": 25,
     "metadata": {},
     "output_type": "execute_result"
    }
   ],
   "source": [
    "p_values.sort_values(ascending=False)"
   ]
  },
  {
   "cell_type": "code",
   "execution_count": 26,
   "metadata": {},
   "outputs": [
    {
     "data": {
      "text/plain": [
       "A10     5.408059e-01\n",
       "A11     5.150989e-01\n",
       "A3      9.889117e-02\n",
       "A5      2.642901e-09\n",
       "A1      3.547670e-19\n",
       "A8      8.348353e-20\n",
       "A2      4.454922e-35\n",
       "A7      5.083350e-39\n",
       "A4      2.114113e-40\n",
       "A6      1.799268e-80\n",
       "A12    3.398367e-243\n",
       "A9     7.626441e-246\n",
       "A13     0.000000e+00\n",
       "dtype: float64"
      ]
     },
     "execution_count": 26,
     "metadata": {},
     "output_type": "execute_result"
    }
   ],
   "source": [
    "final3=pd.Series(p_values)\n",
    "final3=final3.sort_values(ascending=False)\n",
    "final_ch=final3[0:15]\n",
    "final_ch"
   ]
  },
  {
   "cell_type": "code",
   "execution_count": 27,
   "metadata": {},
   "outputs": [
    {
     "data": {
      "text/plain": [
       "<AxesSubplot:>"
      ]
     },
     "execution_count": 27,
     "metadata": {},
     "output_type": "execute_result"
    },
    {
     "data": {
      "image/png": "[encoded data removed]",
      "text/plain": [
       "<Figure size 1440x576 with 1 Axes>"
      ]
     },
     "metadata": {
      "needs_background": "light"
     },
     "output_type": "display_data"
    }
   ],
   "source": [
    "p_values.sort_values(ascending=False).plot.bar(figsize=(20, 8),color=\"g\")"
   ]
  },
  {
   "cell_type": "code",
   "execution_count": 28,
   "metadata": {},
   "outputs": [],
   "source": [
    "x_ig=x[final_ig.keys()]\n",
    "x_gr=x[final_gr.keys()]\n",
    "x_ch=x[final_ch.keys()]\n",
    "features=list()\n",
    "features.append(x_ig)\n",
    "features.append(x_gr)\n",
    "features.append(x_ch)\n",
    "features.append(x)\n",
    "metrics={\"accuracy\",\"precision\",\"recall\",\"f1\"}\n",
    "features_methods={\"ig\",\"gr\",\"ch\",\"all\"}\n",
    "classifiers={\"bay\",\"com\",\"svm\",\"dtc\",\"rfc\"}\n",
    "kf = KFold(n_splits=10)"
   ]
  },
  {
   "cell_type": "code",
   "execution_count": 29,
   "metadata": {},
   "outputs": [],
   "source": [
    "import warnings\n",
    "warnings.filterwarnings(\"ignore\")"
   ]
  },
  {
   "cell_type": "markdown",
   "metadata": {},
   "source": [
    "# GaussianNB"
   ]
  },
  {
   "cell_type": "code",
   "execution_count": 30,
   "metadata": {},
   "outputs": [],
   "source": [
    "accuracy_bay=list()\n",
    "precision_bay=list()\n",
    "recall_bay=list()\n",
    "f1_bay=list()\n",
    "for i in features:\n",
    "    bay = GaussianNB()\n",
    "    accuracy_bay.append(cross_val_score(bay, i, y, scoring=\"accuracy\", cv=kf))\n",
    "    precision_bay.append(cross_val_score(bay, i, y, scoring=\"precision\", cv=kf))\n",
    "    recall_bay.append(cross_val_score(bay, i, y, scoring=\"recall\", cv=kf))\n",
    "    f1_bay.append(cross_val_score(bay, i, y, scoring=\"f1\", cv=kf))"
   ]
  },
  {
   "cell_type": "markdown",
   "metadata": {},
   "source": [
    "# ComplementNB"
   ]
  },
  {
   "cell_type": "code",
   "execution_count": 31,
   "metadata": {},
   "outputs": [],
   "source": [
    "accuracy_com=list()\n",
    "precision_com=list()\n",
    "recall_com=list()\n",
    "f1_com=list()\n",
    "for i in features:\n",
    "    com = ComplementNB()\n",
    "    accuracy_com.append(cross_val_score(com, i, y, scoring=\"accuracy\", cv=kf))\n",
    "    precision_com.append(cross_val_score(com, i, y, scoring=\"precision\", cv=kf))\n",
    "    recall_com.append(cross_val_score(com, i, y, scoring=\"recall\", cv=kf))\n",
    "    f1_com.append(cross_val_score(com, i, y, scoring=\"f1\", cv=kf))"
   ]
  },
  {
   "cell_type": "markdown",
   "metadata": {},
   "source": [
    "# SVM-RBF"
   ]
  },
  {
   "cell_type": "code",
   "execution_count": 32,
   "metadata": {},
   "outputs": [],
   "source": [
    "accuracy_svm=list()\n",
    "precision_svm=list()\n",
    "recall_svm=list()\n",
    "f1_svm=list()\n",
    "for i in features:\n",
    "    svm = SVC(kernel= 'rbf')\n",
    "    accuracy_svm.append(cross_val_score(svm, i, y, scoring=\"accuracy\", cv=kf))\n",
    "    precision_svm.append(cross_val_score(svm, i, y, scoring=\"precision\", cv=kf))\n",
    "    recall_svm.append(cross_val_score(svm, i, y, scoring=\"recall\", cv=kf))\n",
    "    f1_svm.append(cross_val_score(svm, i, y, scoring=\"f1\", cv=kf))"
   ]
  },
  {
   "cell_type": "markdown",
   "metadata": {},
   "source": [
    "# Decision Tree"
   ]
  },
  {
   "cell_type": "code",
   "execution_count": 33,
   "metadata": {},
   "outputs": [],
   "source": [
    "accuracy_dtc=list()\n",
    "precision_dtc=list()\n",
    "recall_dtc=list()\n",
    "f1_dtc=list()\n",
    "for i in features:\n",
    "    dtc = DecisionTreeClassifier()\n",
    "    array_ac=np.array([])\n",
    "    array_pr=np.array([])\n",
    "    array_re=np.array([])\n",
    "    array_f1=np.array([])\n",
    "    for j in range(10):\n",
    "        array_ac=np.append(array_ac,np.mean(cross_val_score(dtc, i, y, scoring=\"accuracy\", cv=kf)))\n",
    "        array_pr=np.append(array_pr,np.mean(cross_val_score(dtc, i, y, scoring=\"precision\", cv=kf)))\n",
    "        array_re=np.append(array_re,np.mean(cross_val_score(dtc, i, y, scoring=\"recall\", cv=kf)))\n",
    "        array_f1=np.append(array_f1,np.mean(cross_val_score(dtc, i, y, scoring=\"f1\", cv=kf)))\n",
    "    accuracy_dtc.append(array_ac)\n",
    "    precision_dtc.append(array_pr)\n",
    "    recall_dtc.append(array_re)\n",
    "    f1_dtc.append(array_f1)"
   ]
  },
  {
   "cell_type": "markdown",
   "metadata": {},
   "source": [
    "# Random Forest"
   ]
  },
  {
   "cell_type": "code",
   "execution_count": 43,
   "metadata": {},
   "outputs": [],
   "source": [
    "accuracy_rfc=list()\n",
    "precision_rfc=list()\n",
    "recall_rfc=list()\n",
    "f1_rfc=list()\n",
    "for i in features:\n",
    "    rfc = RandomForestClassifier()\n",
    "    array_ac=np.array([])\n",
    "    array_pr=np.array([])\n",
    "    array_re=np.array([])\n",
    "    array_f1=np.array([])\n",
    "    for j in range(10):\n",
    "        array_ac=np.append(array_ac,np.mean(cross_val_score(rfc, i, y, scoring=\"accuracy\", cv=kf)))\n",
    "        array_pr=np.append(array_pr,np.mean(cross_val_score(rfc, i, y, scoring=\"precision\", cv=kf)))\n",
    "        array_re=np.append(array_re,np.mean(cross_val_score(rfc, i, y, scoring=\"recall\", cv=kf)))\n",
    "        array_f1=np.append(array_f1,np.mean(cross_val_score(rfc, i, y, scoring=\"f1\", cv=kf)))\n",
    "    accuracy_rfc.append(array_ac)\n",
    "    precision_rfc.append(array_pr)\n",
    "    recall_rfc.append(array_re)\n",
    "    f1_rfc.append(array_f1)"
   ]
  },
  {
   "cell_type": "markdown",
   "metadata": {},
   "source": [
    "# Result"
   ]
  },
  {
   "cell_type": "code",
   "execution_count": 44,
   "metadata": {},
   "outputs": [],
   "source": [
    "table_ac=pd.DataFrame(index=classifiers,columns=features_methods)\n",
    "table_pr=pd.DataFrame(index=classifiers,columns=features_methods)\n",
    "table_re=pd.DataFrame(index=classifiers,columns=features_methods)\n",
    "table_f1=pd.DataFrame(index=classifiers,columns=features_methods)"
   ]
  },
  {
   "cell_type": "code",
   "execution_count": 45,
   "metadata": {},
   "outputs": [
    {
     "data": {
      "text/html": [
       "<div>\n",
       "<style scoped>\n",
       "    .dataframe tbody tr th:only-of-type {\n",
       "        vertical-align: middle;\n",
       "    }\n",
       "\n",
       "    .dataframe tbody tr th {\n",
       "        vertical-align: top;\n",
       "    }\n",
       "\n",
       "    .dataframe thead th {\n",
       "        text-align: right;\n",
       "    }\n",
       "</style>\n",
       "<table border=\"1\" class=\"dataframe\">\n",
       "  <thead>\n",
       "    <tr style=\"text-align: right;\">\n",
       "      <th></th>\n",
       "      <th>gr</th>\n",
       "      <th>all</th>\n",
       "      <th>ig</th>\n",
       "      <th>ch</th>\n",
       "    </tr>\n",
       "  </thead>\n",
       "  <tbody>\n",
       "    <tr>\n",
       "      <th>dtc</th>\n",
       "      <td>79.5942</td>\n",
       "      <td>80.3768</td>\n",
       "      <td>80.1159</td>\n",
       "      <td>80.6667</td>\n",
       "    </tr>\n",
       "    <tr>\n",
       "      <th>svm</th>\n",
       "      <td>65.2174</td>\n",
       "      <td>65.2174</td>\n",
       "      <td>65.2174</td>\n",
       "      <td>65.2174</td>\n",
       "    </tr>\n",
       "    <tr>\n",
       "      <th>bay</th>\n",
       "      <td>78.6957</td>\n",
       "      <td>78.4058</td>\n",
       "      <td>78.9855</td>\n",
       "      <td>78.4058</td>\n",
       "    </tr>\n",
       "    <tr>\n",
       "      <th>com</th>\n",
       "      <td>65.3623</td>\n",
       "      <td>66.9565</td>\n",
       "      <td>66.9565</td>\n",
       "      <td>66.9565</td>\n",
       "    </tr>\n",
       "    <tr>\n",
       "      <th>rfc</th>\n",
       "      <td>84.0145</td>\n",
       "      <td>86.4203</td>\n",
       "      <td>85.2899</td>\n",
       "      <td>86.2319</td>\n",
       "    </tr>\n",
       "  </tbody>\n",
       "</table>\n",
       "</div>"
      ],
      "text/plain": [
       "          gr      all       ig       ch\n",
       "dtc  79.5942  80.3768  80.1159  80.6667\n",
       "svm  65.2174  65.2174  65.2174  65.2174\n",
       "bay  78.6957  78.4058  78.9855  78.4058\n",
       "com  65.3623  66.9565  66.9565  66.9565\n",
       "rfc  84.0145  86.4203  85.2899  86.2319"
      ]
     },
     "execution_count": 45,
     "metadata": {},
     "output_type": "execute_result"
    }
   ],
   "source": [
    "table_ac[\"ig\"][\"com\"]=np.mean(accuracy_com[0])*100\n",
    "table_ac[\"gr\"][\"com\"]=np.mean(accuracy_com[1])*100\n",
    "table_ac[\"ch\"][\"com\"]=np.mean(accuracy_com[2])*100\n",
    "table_ac[\"all\"][\"com\"]=np.mean(accuracy_com[3])*100\n",
    "table_ac[\"ig\"][\"rfc\"]=np.mean(accuracy_rfc[0])*100\n",
    "table_ac[\"gr\"][\"rfc\"]=np.mean(accuracy_rfc[1])*100\n",
    "table_ac[\"ch\"][\"rfc\"]=np.mean(accuracy_rfc[2])*100\n",
    "table_ac[\"all\"][\"rfc\"]=np.mean(accuracy_rfc[3])*100\n",
    "table_ac[\"ig\"][\"bay\"]=np.mean(accuracy_bay[0])*100\n",
    "table_ac[\"gr\"][\"bay\"]=np.mean(accuracy_bay[1])*100\n",
    "table_ac[\"ch\"][\"bay\"]=np.mean(accuracy_bay[2])*100\n",
    "table_ac[\"all\"][\"bay\"]=np.mean(accuracy_bay[3])*100\n",
    "table_ac[\"ig\"][\"svm\"]=np.mean(accuracy_svm[0])*100\n",
    "table_ac[\"gr\"][\"svm\"]=np.mean(accuracy_svm[1])*100\n",
    "table_ac[\"ch\"][\"svm\"]=np.mean(accuracy_svm[2])*100\n",
    "table_ac[\"all\"][\"svm\"]=np.mean(accuracy_svm[3])*100\n",
    "table_ac[\"ig\"][\"dtc\"]=np.mean(accuracy_dtc[0])*100\n",
    "table_ac[\"gr\"][\"dtc\"]=np.mean(accuracy_dtc[1])*100\n",
    "table_ac[\"ch\"][\"dtc\"]=np.mean(accuracy_dtc[2])*100\n",
    "table_ac[\"all\"][\"dtc\"]=np.mean(accuracy_dtc[3])*100\n",
    "table_ac"
   ]
  },
  {
   "cell_type": "code",
   "execution_count": 46,
   "metadata": {},
   "outputs": [
    {
     "data": {
      "text/html": [
       "<div>\n",
       "<style scoped>\n",
       "    .dataframe tbody tr th:only-of-type {\n",
       "        vertical-align: middle;\n",
       "    }\n",
       "\n",
       "    .dataframe tbody tr th {\n",
       "        vertical-align: top;\n",
       "    }\n",
       "\n",
       "    .dataframe thead th {\n",
       "        text-align: right;\n",
       "    }\n",
       "</style>\n",
       "<table border=\"1\" class=\"dataframe\">\n",
       "  <thead>\n",
       "    <tr style=\"text-align: right;\">\n",
       "      <th></th>\n",
       "      <th>gr</th>\n",
       "      <th>all</th>\n",
       "      <th>ig</th>\n",
       "      <th>ch</th>\n",
       "    </tr>\n",
       "  </thead>\n",
       "  <tbody>\n",
       "    <tr>\n",
       "      <th>dtc</th>\n",
       "      <td>76.128</td>\n",
       "      <td>79.1696</td>\n",
       "      <td>77.7067</td>\n",
       "      <td>78.9142</td>\n",
       "    </tr>\n",
       "    <tr>\n",
       "      <th>svm</th>\n",
       "      <td>74.9562</td>\n",
       "      <td>74.9562</td>\n",
       "      <td>74.9562</td>\n",
       "      <td>74.9562</td>\n",
       "    </tr>\n",
       "    <tr>\n",
       "      <th>bay</th>\n",
       "      <td>86.97</td>\n",
       "      <td>85.5726</td>\n",
       "      <td>87.1433</td>\n",
       "      <td>85.5726</td>\n",
       "    </tr>\n",
       "    <tr>\n",
       "      <th>com</th>\n",
       "      <td>71.0134</td>\n",
       "      <td>71.61</td>\n",
       "      <td>71.1565</td>\n",
       "      <td>71.61</td>\n",
       "    </tr>\n",
       "    <tr>\n",
       "      <th>rfc</th>\n",
       "      <td>81.688</td>\n",
       "      <td>84.6524</td>\n",
       "      <td>83.2051</td>\n",
       "      <td>84.9889</td>\n",
       "    </tr>\n",
       "  </tbody>\n",
       "</table>\n",
       "</div>"
      ],
      "text/plain": [
       "          gr      all       ig       ch\n",
       "dtc   76.128  79.1696  77.7067  78.9142\n",
       "svm  74.9562  74.9562  74.9562  74.9562\n",
       "bay    86.97  85.5726  87.1433  85.5726\n",
       "com  71.0134    71.61  71.1565    71.61\n",
       "rfc   81.688  84.6524  83.2051  84.9889"
      ]
     },
     "execution_count": 46,
     "metadata": {},
     "output_type": "execute_result"
    }
   ],
   "source": [
    "table_pr[\"ig\"][\"com\"]=np.mean(precision_com[0])*100\n",
    "table_pr[\"gr\"][\"com\"]=np.mean(precision_com[1])*100\n",
    "table_pr[\"ch\"][\"com\"]=np.mean(precision_com[2])*100\n",
    "table_pr[\"all\"][\"com\"]=np.mean(precision_com[3])*100\n",
    "table_pr[\"ig\"][\"rfc\"]=np.mean(precision_rfc[0])*100\n",
    "table_pr[\"gr\"][\"rfc\"]=np.mean(precision_rfc[1])*100\n",
    "table_pr[\"ch\"][\"rfc\"]=np.mean(precision_rfc[2])*100\n",
    "table_pr[\"all\"][\"rfc\"]=np.mean(precision_rfc[3])*100\n",
    "table_pr[\"ig\"][\"bay\"]=np.mean(precision_bay[0])*100\n",
    "table_pr[\"gr\"][\"bay\"]=np.mean(precision_bay[1])*100\n",
    "table_pr[\"ch\"][\"bay\"]=np.mean(precision_bay[2])*100\n",
    "table_pr[\"all\"][\"bay\"]=np.mean(precision_bay[3])*100\n",
    "table_pr[\"ig\"][\"svm\"]=np.mean(precision_svm[0])*100\n",
    "table_pr[\"gr\"][\"svm\"]=np.mean(precision_svm[1])*100\n",
    "table_pr[\"ch\"][\"svm\"]=np.mean(precision_svm[2])*100\n",
    "table_pr[\"all\"][\"svm\"]=np.mean(precision_svm[3])*100\n",
    "table_pr[\"ig\"][\"dtc\"]=np.mean(precision_dtc[0])*100\n",
    "table_pr[\"gr\"][\"dtc\"]=np.mean(precision_dtc[1])*100\n",
    "table_pr[\"ch\"][\"dtc\"]=np.mean(precision_dtc[2])*100\n",
    "table_pr[\"all\"][\"dtc\"]=np.mean(precision_dtc[3])*100\n",
    "table_pr"
   ]
  },
  {
   "cell_type": "code",
   "execution_count": 47,
   "metadata": {},
   "outputs": [
    {
     "data": {
      "text/html": [
       "<div>\n",
       "<style scoped>\n",
       "    .dataframe tbody tr th:only-of-type {\n",
       "        vertical-align: middle;\n",
       "    }\n",
       "\n",
       "    .dataframe tbody tr th {\n",
       "        vertical-align: top;\n",
       "    }\n",
       "\n",
       "    .dataframe thead th {\n",
       "        text-align: right;\n",
       "    }\n",
       "</style>\n",
       "<table border=\"1\" class=\"dataframe\">\n",
       "  <thead>\n",
       "    <tr style=\"text-align: right;\">\n",
       "      <th></th>\n",
       "      <th>gr</th>\n",
       "      <th>all</th>\n",
       "      <th>ig</th>\n",
       "      <th>ch</th>\n",
       "    </tr>\n",
       "  </thead>\n",
       "  <tbody>\n",
       "    <tr>\n",
       "      <th>dtc</th>\n",
       "      <td>78.1389</td>\n",
       "      <td>77.7906</td>\n",
       "      <td>78.1107</td>\n",
       "      <td>77.7875</td>\n",
       "    </tr>\n",
       "    <tr>\n",
       "      <th>svm</th>\n",
       "      <td>29.5907</td>\n",
       "      <td>29.5907</td>\n",
       "      <td>29.5907</td>\n",
       "      <td>29.5907</td>\n",
       "    </tr>\n",
       "    <tr>\n",
       "      <th>bay</th>\n",
       "      <td>61.6868</td>\n",
       "      <td>62.3636</td>\n",
       "      <td>62.3948</td>\n",
       "      <td>62.3636</td>\n",
       "    </tr>\n",
       "    <tr>\n",
       "      <th>com</th>\n",
       "      <td>33.3578</td>\n",
       "      <td>40.2786</td>\n",
       "      <td>41.9644</td>\n",
       "      <td>40.2786</td>\n",
       "    </tr>\n",
       "    <tr>\n",
       "      <th>rfc</th>\n",
       "      <td>83.4812</td>\n",
       "      <td>85.5251</td>\n",
       "      <td>84.1396</td>\n",
       "      <td>84.7283</td>\n",
       "    </tr>\n",
       "  </tbody>\n",
       "</table>\n",
       "</div>"
      ],
      "text/plain": [
       "          gr      all       ig       ch\n",
       "dtc  78.1389  77.7906  78.1107  77.7875\n",
       "svm  29.5907  29.5907  29.5907  29.5907\n",
       "bay  61.6868  62.3636  62.3948  62.3636\n",
       "com  33.3578  40.2786  41.9644  40.2786\n",
       "rfc  83.4812  85.5251  84.1396  84.7283"
      ]
     },
     "execution_count": 47,
     "metadata": {},
     "output_type": "execute_result"
    }
   ],
   "source": [
    "table_re[\"ig\"][\"com\"]=np.mean(recall_com[0])*100\n",
    "table_re[\"gr\"][\"com\"]=np.mean(recall_com[1])*100\n",
    "table_re[\"ch\"][\"com\"]=np.mean(recall_com[2])*100\n",
    "table_re[\"all\"][\"com\"]=np.mean(recall_com[3])*100\n",
    "table_re[\"ig\"][\"rfc\"]=np.mean(recall_rfc[0])*100\n",
    "table_re[\"gr\"][\"rfc\"]=np.mean(recall_rfc[1])*100\n",
    "table_re[\"ch\"][\"rfc\"]=np.mean(recall_rfc[2])*100\n",
    "table_re[\"all\"][\"rfc\"]=np.mean(recall_rfc[3])*100\n",
    "table_re[\"ig\"][\"bay\"]=np.mean(recall_bay[0])*100\n",
    "table_re[\"gr\"][\"bay\"]=np.mean(recall_bay[1])*100\n",
    "table_re[\"ch\"][\"bay\"]=np.mean(recall_bay[2])*100\n",
    "table_re[\"all\"][\"bay\"]=np.mean(recall_bay[3])*100\n",
    "table_re[\"ig\"][\"svm\"]=np.mean(recall_svm[0])*100\n",
    "table_re[\"gr\"][\"svm\"]=np.mean(recall_svm[1])*100\n",
    "table_re[\"ch\"][\"svm\"]=np.mean(recall_svm[2])*100\n",
    "table_re[\"all\"][\"svm\"]=np.mean(recall_svm[3])*100\n",
    "table_re[\"ig\"][\"dtc\"]=np.mean(recall_dtc[0])*100\n",
    "table_re[\"gr\"][\"dtc\"]=np.mean(recall_dtc[1])*100\n",
    "table_re[\"ch\"][\"dtc\"]=np.mean(recall_dtc[2])*100\n",
    "table_re[\"all\"][\"dtc\"]=np.mean(recall_dtc[3])*100\n",
    "table_re"
   ]
  },
  {
   "cell_type": "code",
   "execution_count": 48,
   "metadata": {},
   "outputs": [
    {
     "data": {
      "text/html": [
       "<div>\n",
       "<style scoped>\n",
       "    .dataframe tbody tr th:only-of-type {\n",
       "        vertical-align: middle;\n",
       "    }\n",
       "\n",
       "    .dataframe tbody tr th {\n",
       "        vertical-align: top;\n",
       "    }\n",
       "\n",
       "    .dataframe thead th {\n",
       "        text-align: right;\n",
       "    }\n",
       "</style>\n",
       "<table border=\"1\" class=\"dataframe\">\n",
       "  <thead>\n",
       "    <tr style=\"text-align: right;\">\n",
       "      <th></th>\n",
       "      <th>gr</th>\n",
       "      <th>all</th>\n",
       "      <th>ig</th>\n",
       "      <th>ch</th>\n",
       "    </tr>\n",
       "  </thead>\n",
       "  <tbody>\n",
       "    <tr>\n",
       "      <th>dtc</th>\n",
       "      <td>76.9074</td>\n",
       "      <td>77.8469</td>\n",
       "      <td>77.422</td>\n",
       "      <td>78.0799</td>\n",
       "    </tr>\n",
       "    <tr>\n",
       "      <th>svm</th>\n",
       "      <td>41.5468</td>\n",
       "      <td>41.5468</td>\n",
       "      <td>41.5468</td>\n",
       "      <td>41.5468</td>\n",
       "    </tr>\n",
       "    <tr>\n",
       "      <th>bay</th>\n",
       "      <td>71.565</td>\n",
       "      <td>71.5286</td>\n",
       "      <td>72.1748</td>\n",
       "      <td>71.5286</td>\n",
       "    </tr>\n",
       "    <tr>\n",
       "      <th>com</th>\n",
       "      <td>44.3481</td>\n",
       "      <td>51.087</td>\n",
       "      <td>52.4378</td>\n",
       "      <td>51.087</td>\n",
       "    </tr>\n",
       "    <tr>\n",
       "      <th>rfc</th>\n",
       "      <td>82.0252</td>\n",
       "      <td>84.7595</td>\n",
       "      <td>83.3378</td>\n",
       "      <td>84.764</td>\n",
       "    </tr>\n",
       "  </tbody>\n",
       "</table>\n",
       "</div>"
      ],
      "text/plain": [
       "          gr      all       ig       ch\n",
       "dtc  76.9074  77.8469   77.422  78.0799\n",
       "svm  41.5468  41.5468  41.5468  41.5468\n",
       "bay   71.565  71.5286  72.1748  71.5286\n",
       "com  44.3481   51.087  52.4378   51.087\n",
       "rfc  82.0252  84.7595  83.3378   84.764"
      ]
     },
     "execution_count": 48,
     "metadata": {},
     "output_type": "execute_result"
    }
   ],
   "source": [
    "table_f1[\"ig\"][\"com\"]=np.mean(f1_com[0])*100\n",
    "table_f1[\"gr\"][\"com\"]=np.mean(f1_com[1])*100\n",
    "table_f1[\"ch\"][\"com\"]=np.mean(f1_com[2])*100\n",
    "table_f1[\"all\"][\"com\"]=np.mean(f1_com[3])*100\n",
    "table_f1[\"ig\"][\"rfc\"]=np.mean(f1_rfc[0])*100\n",
    "table_f1[\"gr\"][\"rfc\"]=np.mean(f1_rfc[1])*100\n",
    "table_f1[\"ch\"][\"rfc\"]=np.mean(f1_rfc[2])*100\n",
    "table_f1[\"all\"][\"rfc\"]=np.mean(f1_rfc[3])*100\n",
    "table_f1[\"ig\"][\"bay\"]=np.mean(f1_bay[0])*100\n",
    "table_f1[\"gr\"][\"bay\"]=np.mean(f1_bay[1])*100\n",
    "table_f1[\"ch\"][\"bay\"]=np.mean(f1_bay[2])*100\n",
    "table_f1[\"all\"][\"bay\"]=np.mean(f1_bay[3])*100\n",
    "table_f1[\"ig\"][\"svm\"]=np.mean(f1_svm[0])*100\n",
    "table_f1[\"gr\"][\"svm\"]=np.mean(f1_svm[1])*100\n",
    "table_f1[\"ch\"][\"svm\"]=np.mean(f1_svm[2])*100\n",
    "table_f1[\"all\"][\"svm\"]=np.mean(f1_svm[3])*100\n",
    "table_f1[\"ig\"][\"dtc\"]=np.mean(f1_dtc[0])*100\n",
    "table_f1[\"gr\"][\"dtc\"]=np.mean(f1_dtc[1])*100\n",
    "table_f1[\"ch\"][\"dtc\"]=np.mean(f1_dtc[2])*100\n",
    "table_f1[\"all\"][\"dtc\"]=np.mean(f1_dtc[3])*100\n",
    "table_f1"
   ]
  },
  {
   "cell_type": "code",
   "execution_count": 49,
   "metadata": {},
   "outputs": [],
   "source": [
    "table_ac.to_excel(\"C:/Users/NJ/Desktop/table_ac.xlsx\")\n",
    "table_pr.to_excel(\"C:/Users/NJ/Desktop/table_pr.xlsx\")\n",
    "table_re.to_excel(\"C:/Users/NJ/Desktop/table_re.xlsx\")\n",
    "table_f1.to_excel(\"C:/Users/NJ/Desktop/table_f1.xlsx\")"
   ]
  },
  {
   "cell_type": "code",
   "execution_count": 157,
   "metadata": {},
   "outputs": [],
   "source": [
    "accuracy_rfc1=pd.DataFrame(accuracy_rfc)\n",
    "precision_rfc1=pd.DataFrame(precision_rfc)\n",
    "recall_rfc1=pd.DataFrame(recall_rfc)\n",
    "f1_rfc1=pd.DataFrame(f1_rfc)\n",
    "accuracy_rfc1.to_excel(\"C:/Users/NJ/Desktop/accuracy_rfc1.xlsx\")\n",
    "precision_rfc1.to_excel(\"C:/Users/NJ/Desktop/precision_rfc1.xlsx\")\n",
    "recall_rfc1.to_excel(\"C:/Users/NJ/Desktop/recall_rfc1.xlsx\")\n",
    "f1_rfc1.to_excel(\"C:/Users/NJ/Desktop/f1_rfc1.xlsx\")"
   ]
  },
  {
   "cell_type": "code",
   "execution_count": 158,
   "metadata": {},
   "outputs": [],
   "source": [
    "accuracy_dtc1=pd.DataFrame(accuracy_dtc)\n",
    "precision_dtc1=pd.DataFrame(precision_dtc)\n",
    "recall_dtc1=pd.DataFrame(recall_dtc)\n",
    "f1_dtc1=pd.DataFrame(f1_dtc)\n",
    "accuracy_dtc1.to_excel(\"C:/Users/NJ/Desktop/accuracy_dtc1.xlsx\")\n",
    "precision_dtc1.to_excel(\"C:/Users/NJ/Desktop/precision_dtc1.xlsx\")\n",
    "recall_dtc1.to_excel(\"C:/Users/NJ/Desktop/recall_dtc1.xlsx\")\n",
    "f1_dtc1.to_excel(\"C:/Users/NJ/Desktop/f1_dtc1.xlsx\")"
   ]
  },
  {
   "cell_type": "code",
   "execution_count": 159,
   "metadata": {},
   "outputs": [],
   "source": [
    "accuracy_svm1=pd.DataFrame(accuracy_svm)\n",
    "precision_svm1=pd.DataFrame(precision_svm)\n",
    "recall_svm1=pd.DataFrame(recall_svm)\n",
    "f1_svm1=pd.DataFrame(f1_svm)\n",
    "accuracy_svm1.to_excel(\"C:/Users/NJ/Desktop/accuracy_svm1.xlsx\")\n",
    "precision_svm1.to_excel(\"C:/Users/NJ/Desktop/precision_svm1.xlsx\")\n",
    "recall_svm1.to_excel(\"C:/Users/NJ/Desktop/recall_svm1.xlsx\")\n",
    "f1_svm1.to_excel(\"C:/Users/NJ/Desktop/f1_svm1.xlsx\")"
   ]
  },
  {
   "cell_type": "code",
   "execution_count": 160,
   "metadata": {},
   "outputs": [],
   "source": [
    "accuracy_bay1=pd.DataFrame(accuracy_bay)\n",
    "precision_bay1=pd.DataFrame(precision_bay)\n",
    "recall_bay1=pd.DataFrame(recall_bay)\n",
    "f1_bay1=pd.DataFrame(f1_bay)\n",
    "accuracy_bay1.to_excel(\"C:/Users/NJ/Desktop/accuracy_bay1.xlsx\")\n",
    "precision_bay1.to_excel(\"C:/Users/NJ/Desktop/precision_bay1.xlsx\")\n",
    "recall_bay1.to_excel(\"C:/Users/NJ/Desktop/recall_bay1.xlsx\")\n",
    "f1_bay1.to_excel(\"C:/Users/NJ/Desktop/f1_bay1.xlsx\")"
   ]
  },
  {
   "cell_type": "code",
   "execution_count": 161,
   "metadata": {},
   "outputs": [],
   "source": [
    "accuracy_com1=pd.DataFrame(accuracy_com)\n",
    "precision_com1=pd.DataFrame(precision_com)\n",
    "recall_com1=pd.DataFrame(recall_com)\n",
    "f1_com1=pd.DataFrame(f1_com)\n",
    "accuracy_com1.to_excel(\"C:/Users/NJ/Desktop/accuracy_com1.xlsx\")\n",
    "precision_com1.to_excel(\"C:/Users/NJ/Desktop/precision_com1.xlsx\")\n",
    "recall_com1.to_excel(\"C:/Users/NJ/Desktop/recall_com1.xlsx\")\n",
    "f1_com1.to_excel(\"C:/Users/NJ/Desktop/f1_com1.xlsx\")"
   ]
  },
  {
   "cell_type": "code",
   "execution_count": null,
   "metadata": {},
   "outputs": [],
   "source": []
  }
 ],
 "metadata": {
  "kernelspec": {
   "display_name": "Python 3",
   "language": "python",
   "name": "python3"
  },
  "language_info": {
   "codemirror_mode": {
    "name": "ipython",
    "version": 3
   },
   "file_extension": ".py",
   "mimetype": "text/x-python",
   "name": "python",
   "nbconvert_exporter": "python",
   "pygments_lexer": "ipython3",
   "version": "3.8.5"
  }
 },
 "nbformat": 4,
 "nbformat_minor": 4
}
